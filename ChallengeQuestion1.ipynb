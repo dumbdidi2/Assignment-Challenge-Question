{
  "nbformat": 4,
  "nbformat_minor": 0,
  "metadata": {
    "colab": {
      "provenance": [],
      "authorship_tag": "ABX9TyPKkzBaylN6DlYpt99thFTE",
      "include_colab_link": true
    },
    "kernelspec": {
      "name": "python3",
      "display_name": "Python 3"
    },
    "language_info": {
      "name": "python"
    }
  },
  "cells": [
    {
      "cell_type": "markdown",
      "metadata": {
        "id": "view-in-github",
        "colab_type": "text"
      },
      "source": [
        "<a href=\"https://colab.research.google.com/github/dumbdidi2/Assignment-Challenge-Question/blob/main/ChallengeQuestion1.ipynb\" target=\"_parent\"><img src=\"https://colab.research.google.com/assets/colab-badge.svg\" alt=\"Open In Colab\"/></a>"
      ]
    },
    {
      "cell_type": "code",
      "execution_count": 4,
      "metadata": {
        "colab": {
          "base_uri": "https://localhost:8080/"
        },
        "id": "JUlOzLJTs3Yx",
        "outputId": "7277bfaf-3a42-4dee-adbe-bce69b7870ab"
      },
      "outputs": [
        {
          "output_type": "stream",
          "name": "stdout",
          "text": [
            "['Ram', 1, 'Shyam', 2, 'Aman', 3]\n",
            "['Ram', '1', 'Shyam', '2', 'Aman', '3']\n",
            "['1', '2', '3', 'Aman', 'Ram', 'Shyam']\n"
          ]
        }
      ],
      "source": [
        "\n",
        "L = [\"Ram\", 1, \"Shyam\", 2, \"Aman\", 3 ]\n",
        "L=[str(i) for i in L]\n",
        "L1=[]\n",
        "for i in L:\n",
        "  try:\n",
        "    L1.append(int(i))\n",
        "  except:\n",
        "    L1.append(i)\n",
        "print(L1)\n",
        "\n",
        "print (L)\n",
        "L.sort()\n",
        "print (L)\n"
      ]
    }
  ]
}